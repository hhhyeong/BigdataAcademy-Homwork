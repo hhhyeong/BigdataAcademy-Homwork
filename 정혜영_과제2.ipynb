{
 "cells": [
  {
   "cell_type": "markdown",
   "metadata": {},
   "source": [
    "# Exercise 61 : Average"
   ]
  },
  {
   "cell_type": "code",
   "execution_count": 10,
   "metadata": {},
   "outputs": [
    {
     "name": "stdout",
     "output_type": "stream",
     "text": [
      "0\n",
      "첫번째 숫자는 0이 될 수 없습니다. 다시 입력하세요.\n",
      "1\n",
      "2\n",
      "3\n",
      "4\n",
      "0\n"
     ]
    },
    {
     "data": {
      "text/plain": [
       "2.5"
      ]
     },
     "execution_count": 10,
     "metadata": {},
     "output_type": "execute_result"
    }
   ],
   "source": [
    "num_list = []\n",
    "total = 0\n",
    "while True:\n",
    "    num = int(input())\n",
    "    num_list.append(num)\n",
    "    \n",
    "    if num == 0:\n",
    "        if num_list.index(0) != 0:\n",
    "            num_list.remove(0)\n",
    "            break\n",
    "        else:\n",
    "            print(\"첫번째 숫자는 0이 될 수 없습니다. 다시 입력하세요.\")\n",
    "            num_list.remove(0)\n",
    "    else:\n",
    "        total += num\n",
    "\n",
    "average = total / len(num_list)\n",
    "average"
   ]
  },
  {
   "cell_type": "markdown",
   "metadata": {},
   "source": [
    "# Exercise 63 : Temperature Conversion Table"
   ]
  },
  {
   "cell_type": "code",
   "execution_count": 23,
   "metadata": {},
   "outputs": [
    {
     "name": "stdout",
     "output_type": "stream",
     "text": [
      "섭씨\t화씨\n",
      "0\t 32.0\n",
      "1\t 33.8\n",
      "2\t 35.6\n",
      "3\t 37.4\n",
      "4\t 39.2\n",
      "5\t 41.0\n",
      "6\t 42.8\n",
      "7\t 44.6\n",
      "8\t 46.4\n",
      "9\t 48.2\n",
      "10\t 50.0\n",
      "11\t 51.8\n",
      "12\t 53.6\n",
      "13\t 55.4\n",
      "14\t 57.2\n",
      "15\t 59.0\n",
      "16\t 60.8\n",
      "17\t 62.6\n",
      "18\t 64.4\n",
      "19\t 66.2\n",
      "20\t 68.0\n",
      "21\t 69.8\n",
      "22\t 71.6\n",
      "23\t 73.4\n",
      "24\t 75.2\n",
      "25\t 77.0\n",
      "26\t 78.8\n",
      "27\t 80.6\n",
      "28\t 82.4\n",
      "29\t 84.2\n",
      "30\t 86.0\n",
      "31\t 87.8\n",
      "32\t 89.6\n",
      "33\t 91.4\n",
      "34\t 93.2\n",
      "35\t 95.0\n",
      "36\t 96.8\n",
      "37\t 98.6\n",
      "38\t 100.4\n",
      "39\t 102.2\n",
      "40\t 104.0\n",
      "41\t 105.8\n",
      "42\t 107.6\n",
      "43\t 109.4\n",
      "44\t 111.2\n",
      "45\t 113.0\n",
      "46\t 114.8\n",
      "47\t 116.6\n",
      "48\t 118.4\n",
      "49\t 120.2\n",
      "50\t 122.0\n",
      "51\t 123.8\n",
      "52\t 125.6\n",
      "53\t 127.4\n",
      "54\t 129.2\n",
      "55\t 131.0\n",
      "56\t 132.8\n",
      "57\t 134.6\n",
      "58\t 136.4\n",
      "59\t 138.2\n",
      "60\t 140.0\n",
      "61\t 141.8\n",
      "62\t 143.6\n",
      "63\t 145.4\n",
      "64\t 147.2\n",
      "65\t 149.0\n",
      "66\t 150.8\n",
      "67\t 152.6\n",
      "68\t 154.4\n",
      "69\t 156.2\n",
      "70\t 158.0\n",
      "71\t 159.8\n",
      "72\t 161.6\n",
      "73\t 163.4\n",
      "74\t 165.2\n",
      "75\t 167.0\n",
      "76\t 168.8\n",
      "77\t 170.6\n",
      "78\t 172.4\n",
      "79\t 174.2\n",
      "80\t 176.0\n",
      "81\t 177.8\n",
      "82\t 179.6\n",
      "83\t 181.4\n",
      "84\t 183.2\n",
      "85\t 185.0\n",
      "86\t 186.8\n",
      "87\t 188.6\n",
      "88\t 190.4\n",
      "89\t 192.2\n",
      "90\t 194.0\n",
      "91\t 195.8\n",
      "92\t 197.6\n",
      "93\t 199.4\n",
      "94\t 201.2\n",
      "95\t 203.0\n",
      "96\t 204.8\n",
      "97\t 206.6\n",
      "98\t 208.4\n",
      "99\t 210.2\n"
     ]
    }
   ],
   "source": [
    "print(\"섭씨\\t\" \"화씨\")\n",
    "for i in range(0, 100):\n",
    "    print(\"%d\\t %0.1f\" %(i, (i * 1.8) + 32))"
   ]
  },
  {
   "cell_type": "markdown",
   "metadata": {},
   "source": [
    "# Exercise 67 : Admission Price"
   ]
  },
  {
   "cell_type": "code",
   "execution_count": 14,
   "metadata": {},
   "outputs": [
    {
     "name": "stdout",
     "output_type": "stream",
     "text": [
      "5\n",
      "6\n",
      "98\n",
      "15\n",
      "\n",
      "17.25\n"
     ]
    }
   ],
   "source": [
    "cnt = 0\n",
    "total = 0.0\n",
    "while True:\n",
    "    age_str = input()\n",
    "    if age_str == \"\":\n",
    "        break\n",
    "    else:\n",
    "        cnt += 1\n",
    "        age = int(age_str)\n",
    "        if int(age) <= 2:\n",
    "            cost = 0.0\n",
    "        elif int(age) >= 3 and int(age) < 12:\n",
    "            cost = 14.00\n",
    "        elif int(age) >= 65:\n",
    "            cost = 18.00\n",
    "        else:\n",
    "            cost = 23.00\n",
    "    total += cost\n",
    "    \n",
    "average = float(total/cnt)\n",
    "print(\"%.2f\" %(average))"
   ]
  },
  {
   "cell_type": "markdown",
   "metadata": {},
   "source": [
    "# Exercise 66 : Compute a Grade Point Average"
   ]
  },
  {
   "cell_type": "code",
   "execution_count": null,
   "metadata": {},
   "outputs": [],
   "source": []
  },
  {
   "cell_type": "markdown",
   "metadata": {},
   "source": [
    "# Exercise 72 : Is a String a Palindrome?"
   ]
  },
  {
   "cell_type": "code",
   "execution_count": 18,
   "metadata": {},
   "outputs": [
    {
     "name": "stdout",
     "output_type": "stream",
     "text": [
      "hannah\n",
      "팰린드롬입니다.\n"
     ]
    }
   ],
   "source": [
    "str = input()\n",
    "flag = False\n",
    "\n",
    "for i in range(int(len(str)/2) + 1):\n",
    "    if str[i] != str[len(str)-1-i]:\n",
    "        flag = False\n",
    "        break\n",
    "    else:\n",
    "        flag = True\n",
    "        \n",
    "if flag == True:\n",
    "    print(\"팰린드롬입니다.\")\n",
    "else:\n",
    "    print(\"팰린드롬이 아닙니다\")"
   ]
  },
  {
   "cell_type": "markdown",
   "metadata": {},
   "source": [
    "# Exercise 74 : Multiplication Table"
   ]
  },
  {
   "cell_type": "code",
   "execution_count": 27,
   "metadata": {},
   "outputs": [
    {
     "name": "stdout",
     "output_type": "stream",
     "text": [
      "\t1 \t2 \t3 \t4 \t5 \t6 \t7 \t8 \t9 \t10 \n",
      "1\t1\t2\t3\t4\t5\t6\t7\t8\t9\t10\n",
      "2\t2\t4\t6\t8\t10\t12\t14\t16\t18\t20\n",
      "3\t3\t6\t9\t12\t15\t18\t21\t24\t27\t30\n",
      "4\t4\t8\t12\t16\t20\t24\t28\t32\t36\t40\n",
      "5\t5\t10\t15\t20\t25\t30\t35\t40\t45\t50\n",
      "6\t6\t12\t18\t24\t30\t36\t42\t48\t54\t60\n",
      "7\t7\t14\t21\t28\t35\t42\t49\t56\t63\t70\n",
      "8\t8\t16\t24\t32\t40\t48\t56\t64\t72\t80\n",
      "9\t9\t18\t27\t36\t45\t54\t63\t72\t81\t90\n",
      "10\t10\t20\t30\t40\t50\t60\t70\t80\t90\t100\n"
     ]
    }
   ],
   "source": [
    "for i in range(1, 11):\n",
    "    print(\"\\t%d\" %(i), end=' ')\n",
    "print()\n",
    "for j in range(1, 11):\n",
    "    print(\"%d\" %(j), end=\"\")\n",
    "    for i in range(1, 11):\n",
    "        print(\"\\t%d\" %(int(i)*int(j)), end=\"\")\n",
    "    print(\"\")"
   ]
  },
  {
   "cell_type": "markdown",
   "metadata": {},
   "source": [
    "# Exercise 75 : Greatest Comoom Divisor"
   ]
  },
  {
   "cell_type": "code",
   "execution_count": 33,
   "metadata": {},
   "outputs": [
    {
     "name": "stdout",
     "output_type": "stream",
     "text": [
      "27\n",
      "36\n"
     ]
    },
    {
     "data": {
      "text/plain": [
       "9"
      ]
     },
     "execution_count": 33,
     "metadata": {},
     "output_type": "execute_result"
    }
   ],
   "source": [
    "A = int(input())\n",
    "B = int(input())\n",
    "r = -1\n",
    "\n",
    "while True:\n",
    "    if r == 0:\n",
    "        break\n",
    "    r = A % B\n",
    "    A = B\n",
    "    B = r\n",
    "\n",
    "A"
   ]
  },
  {
   "cell_type": "markdown",
   "metadata": {},
   "source": [
    "# Exercise 77 : Binary to Dicimal"
   ]
  },
  {
   "cell_type": "code",
   "execution_count": 47,
   "metadata": {},
   "outputs": [
    {
     "name": "stdout",
     "output_type": "stream",
     "text": [
      "1101\n"
     ]
    },
    {
     "data": {
      "text/plain": [
       "13"
      ]
     },
     "execution_count": 47,
     "metadata": {},
     "output_type": "execute_result"
    }
   ],
   "source": [
    "str = input()\n",
    "num = 0\n",
    "\n",
    "for i in range(len(str)-1, -1, -1):\n",
    "    num += int(str[i]) * pow(2, len(str)-1-i)\n",
    "    \n",
    "num"
   ]
  },
  {
   "cell_type": "markdown",
   "metadata": {},
   "source": [
    "# Exercise 78 : Decimal to Binary"
   ]
  },
  {
   "cell_type": "code",
   "execution_count": 57,
   "metadata": {},
   "outputs": [
    {
     "name": "stdout",
     "output_type": "stream",
     "text": [
      "16\n",
      "10000"
     ]
    }
   ],
   "source": [
    "num = int(input())\n",
    "remove_list = []\n",
    "quarter = -1\n",
    "\n",
    "while True:\n",
    "    remove = num % 2\n",
    "    num = int(num / 2)\n",
    "    remove_list.append(remove)\n",
    "    if num == 0:\n",
    "        break\n",
    "\n",
    "    \n",
    "for i in range(len(remove_list)-1, -1, -1):\n",
    "    print(remove_list[i], end=\"\")"
   ]
  }
 ],
 "metadata": {
  "kernelspec": {
   "display_name": "Python 3",
   "language": "python",
   "name": "python3"
  }
 },
 "nbformat": 4,
 "nbformat_minor": 2
}
